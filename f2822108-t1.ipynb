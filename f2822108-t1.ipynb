{
 "cells": [
  {
   "cell_type": "markdown",
   "id": "0d64329e-0fd0-4b09-8840-f586ee9323b3",
   "metadata": {},
   "source": [
    "# Big Data Systems Architecture - Spark Assignment "
   ]
  },
  {
   "cell_type": "raw",
   "id": "2aa64b57-8032-447e-af11-e90c214f0ece",
   "metadata": {},
   "source": [
    "Konstantinos Ninas, f2822108\n",
    "MSc in Business Analytics\n",
    "Department of Management Science and Technology\n",
    "Athens University of Economics and Business \n",
    "f2822108@aueb.gr"
   ]
  },
  {
   "cell_type": "code",
   "execution_count": 179,
   "id": "20a865e9-a88c-4942-9384-89698aea5f01",
   "metadata": {},
   "outputs": [],
   "source": [
    "#import of libraries\n",
    "from pyspark.sql import SparkSession\n",
    "from pyspark.sql.functions import *"
   ]
  },
  {
   "cell_type": "code",
   "execution_count": 180,
   "id": "cd55947a-62ce-4423-8dc5-b84404bcb432",
   "metadata": {},
   "outputs": [],
   "source": [
    "#We create a spark session in order to create an application to exlore the data\n",
    "spark = SparkSession.builder.appName('Data_Exploration').getOrCreate()"
   ]
  },
  {
   "cell_type": "code",
   "execution_count": 181,
   "id": "8c5622e4-3d61-4454-be86-77fd084ed207",
   "metadata": {},
   "outputs": [
    {
     "data": {
      "text/plain": [
       "pyspark.sql.dataframe.DataFrame"
      ]
     },
     "execution_count": 181,
     "metadata": {},
     "output_type": "execute_result"
    }
   ],
   "source": [
    "#We load the dataset in a dataframe. We read the file with the .json() function\n",
    "books = spark.read.json(\"books_5000.json\")\n",
    "type(books)"
   ]
  },
  {
   "cell_type": "code",
   "execution_count": 182,
   "id": "715157a3-0383-4330-b727-7ef51ae734e6",
   "metadata": {},
   "outputs": [
    {
     "name": "stdout",
     "output_type": "stream",
     "text": [
      "The number of total books in the dataset is 4999\n"
     ]
    }
   ],
   "source": [
    "#We use the count function to count the number of the books\n",
    "print('The number of total books in the dataset is',books.count())"
   ]
  },
  {
   "cell_type": "code",
   "execution_count": 183,
   "id": "cec10687-8c97-4d02-944a-e4e7523895a0",
   "metadata": {},
   "outputs": [
    {
     "data": {
      "text/plain": [
       "749"
      ]
     },
     "execution_count": 183,
     "metadata": {},
     "output_type": "execute_result"
    }
   ],
   "source": [
    "#we run a SQL-like query to find the number of books with the index is_ebook as true\n",
    "namesDF = spark.sql(\"SELECT * FROM books WHERE is_ebook = True \");\n",
    "namesDF.count()"
   ]
  },
  {
   "cell_type": "code",
   "execution_count": 184,
   "id": "9cd46759-3c95-4094-99d8-860084d09673",
   "metadata": {},
   "outputs": [
    {
     "name": "stdout",
     "output_type": "stream",
     "text": [
      "+-------+-------------------+\n",
      "|summary|     average_rating|\n",
      "+-------+-------------------+\n",
      "|  count|               4999|\n",
      "|   mean| 3.9112042408481678|\n",
      "| stddev|0.43444489528688784|\n",
      "|    min|               1.00|\n",
      "|    25%|               3.66|\n",
      "|    50%|               3.98|\n",
      "|    75%|               4.23|\n",
      "|    max|               5.00|\n",
      "+-------+-------------------+\n",
      "\n"
     ]
    }
   ],
   "source": [
    "#We keep only the 'average_rating' column of each record - book that does not have a null value from an SQL query.\n",
    "rating_summary = spark.sql(\"SELECT average_rating from books WHERE average_rating IS NOT NULL\").summary()\n",
    "rating_summary.show()"
   ]
  },
  {
   "cell_type": "code",
   "execution_count": 185,
   "id": "fa680c3c-9e0f-486f-a65c-9daabda4bb16",
   "metadata": {},
   "outputs": [
    {
     "data": {
      "text/plain": [
       "[Row(format='Market', count=64),\n",
       " Row(format='Mass', count=64),\n",
       " Row(format='Library', count=2),\n",
       " Row(format='Paperback', count=2698),\n",
       " Row(format='paperback', count=2),\n",
       " Row(format='Klappenbroschur', count=1),\n",
       " Row(format='with', count=2),\n",
       " Row(format='Nook', count=1),\n",
       " Row(format='Illustrated', count=2),\n",
       " Row(format='Hardcover', count=830),\n",
       " Row(format='Issue', count=2),\n",
       " Row(format='dust', count=2),\n",
       " Row(format='Album', count=2),\n",
       " Row(format='Book', count=16),\n",
       " Row(format='Webtoon', count=2),\n",
       " Row(format='Unknown', count=7),\n",
       " Row(format='Comics', count=2),\n",
       " Row(format='Bolsillo', count=2),\n",
       " Row(format='con', count=3),\n",
       " Row(format='hardcover', count=1),\n",
       " Row(format='Digital', count=1),\n",
       " Row(format='Rustica', count=1),\n",
       " Row(format='comic', count=2),\n",
       " Row(format='Comic', count=32),\n",
       " Row(format='Manga', count=2),\n",
       " Row(format='comics', count=1),\n",
       " Row(format='Audible', count=1),\n",
       " Row(format='Edition', count=41),\n",
       " Row(format='Kindle', count=41),\n",
       " Row(format='Audio', count=4),\n",
       " Row(format='ebook', count=84),\n",
       " Row(format='Board', count=11),\n",
       " Row(format='', count=1245),\n",
       " Row(format='jacket', count=2),\n",
       " Row(format='sobrecubierta', count=3),\n",
       " Row(format='Binding', count=10),\n",
       " Row(format='book', count=12),\n",
       " Row(format='Spiral-bound', count=1),\n",
       " Row(format='Broche', count=2),\n",
       " Row(format='FC', count=2),\n",
       " Row(format='DC', count=1),\n",
       " Row(format='Klappbroschur', count=1),\n",
       " Row(format='Novel', count=2),\n",
       " Row(format='free', count=1),\n",
       " Row(format='Trade', count=2),\n",
       " Row(format='webtoon', count=1),\n",
       " Row(format='Poche', count=1),\n",
       " Row(format='Handmade', count=1),\n",
       " Row(format='Broschur', count=1),\n",
       " Row(format='Series', count=1),\n",
       " Row(format='Elseworld', count=1),\n",
       " Row(format='Custom', count=1),\n",
       " Row(format='scanlation', count=1),\n",
       " Row(format='Online', count=1),\n",
       " Row(format='Slipcased', count=2),\n",
       " Row(format='Grapa', count=1),\n",
       " Row(format='Novels', count=1),\n",
       " Row(format='manga', count=1),\n",
       " Row(format='Graphic', count=3),\n",
       " Row(format='CD', count=2),\n",
       " Row(format='Brochura', count=1),\n",
       " Row(format='Broschiert', count=2),\n",
       " Row(format='Planeta', count=1),\n",
       " Row(format='dura', count=1),\n",
       " Row(format='Unbound', count=1),\n",
       " Row(format='Tapa', count=1),\n",
       " Row(format='Big', count=1),\n",
       " Row(format='Single', count=1),\n",
       " Row(format='Manga/Bunkoban', count=1),\n",
       " Row(format='One-Shot', count=1)]"
      ]
     },
     "execution_count": 185,
     "metadata": {},
     "output_type": "execute_result"
    }
   ],
   "source": [
    "#We keep only the 'format' column of each record - book with the explode and split functions. Then we group by the values of each column and we count the frequency of each one.\n",
    "formatCounts = books.select(explode(split(books.format, \"\\s+\")) \\\n",
    ".alias(\"format\")) \\\n",
    ".groupBy(\"format\") \\\n",
    ".count()\n",
    "#with the collect function we print each unique format value along with its frequency in the dataset\n",
    "formatCounts.collect()"
   ]
  },
  {
   "cell_type": "code",
   "execution_count": 170,
   "id": "39a1e3fb-3c49-47f7-bbbf-ae7b91f38bd4",
   "metadata": {},
   "outputs": [],
   "source": [
    "#We create a global view of the books dataframe, so it can be accessed from any application in different sessions\n",
    "books.createOrReplaceGlobalTempView(\"books\");"
   ]
  }
 ],
 "metadata": {
  "kernelspec": {
   "display_name": "Python 3 (ipykernel)",
   "language": "python",
   "name": "python3"
  },
  "language_info": {
   "codemirror_mode": {
    "name": "ipython",
    "version": 3
   },
   "file_extension": ".py",
   "mimetype": "text/x-python",
   "name": "python",
   "nbconvert_exporter": "python",
   "pygments_lexer": "ipython3",
   "version": "3.9.10"
  }
 },
 "nbformat": 4,
 "nbformat_minor": 5
}
